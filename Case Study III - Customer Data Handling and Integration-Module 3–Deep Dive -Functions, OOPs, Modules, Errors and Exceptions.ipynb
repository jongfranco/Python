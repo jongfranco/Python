{
 "cells": [
  {
   "cell_type": "code",
   "execution_count": 20,
   "metadata": {},
   "outputs": [],
   "source": [
    "import numpy as np\n",
    "import pandas as pd\n",
    "# import seaborn as sns\n",
    "# import matplotlib.pyplot as plt\n",
    "# from __future__ import print_function\n",
    "# import csv"
   ]
  },
  {
   "cell_type": "markdown",
   "metadata": {},
   "source": [
    "# 1. Read FairDealCustomerData.csv"
   ]
  },
  {
   "cell_type": "code",
   "execution_count": 21,
   "metadata": {},
   "outputs": [],
   "source": [
    "col = ['LastName','Name','Exception']\n",
    "data = pd.read_csv('FairDealCustomerData.csv',names=col)"
   ]
  },
  {
   "cell_type": "code",
   "execution_count": 22,
   "metadata": {},
   "outputs": [
    {
     "data": {
      "text/html": [
       "<div>\n",
       "<style scoped>\n",
       "    .dataframe tbody tr th:only-of-type {\n",
       "        vertical-align: middle;\n",
       "    }\n",
       "\n",
       "    .dataframe tbody tr th {\n",
       "        vertical-align: top;\n",
       "    }\n",
       "\n",
       "    .dataframe thead th {\n",
       "        text-align: right;\n",
       "    }\n",
       "</style>\n",
       "<table border=\"1\" class=\"dataframe\">\n",
       "  <thead>\n",
       "    <tr style=\"text-align: right;\">\n",
       "      <th></th>\n",
       "      <th>LastName</th>\n",
       "      <th>Name</th>\n",
       "      <th>Exception</th>\n",
       "    </tr>\n",
       "  </thead>\n",
       "  <tbody>\n",
       "    <tr>\n",
       "      <th>0</th>\n",
       "      <td>Braund</td>\n",
       "      <td>Mr. Owen Harris</td>\n",
       "      <td>1</td>\n",
       "    </tr>\n",
       "    <tr>\n",
       "      <th>1</th>\n",
       "      <td>Heikkinen</td>\n",
       "      <td>Miss. Laina</td>\n",
       "      <td>0</td>\n",
       "    </tr>\n",
       "    <tr>\n",
       "      <th>2</th>\n",
       "      <td>Allen</td>\n",
       "      <td>Mr. William Henry</td>\n",
       "      <td>0</td>\n",
       "    </tr>\n",
       "    <tr>\n",
       "      <th>3</th>\n",
       "      <td>Moran</td>\n",
       "      <td>Mr. James</td>\n",
       "      <td>0</td>\n",
       "    </tr>\n",
       "    <tr>\n",
       "      <th>4</th>\n",
       "      <td>McCarthy</td>\n",
       "      <td>Mr. Timothy J</td>\n",
       "      <td>0</td>\n",
       "    </tr>\n",
       "  </tbody>\n",
       "</table>\n",
       "</div>"
      ],
      "text/plain": [
       "     LastName                 Name  Exception\n",
       "0      Braund     Mr. Owen Harris           1\n",
       "1   Heikkinen         Miss. Laina           0\n",
       "2       Allen   Mr. William Henry           0\n",
       "3       Moran           Mr. James           0\n",
       "4    McCarthy       Mr. Timothy J           0"
      ]
     },
     "execution_count": 22,
     "metadata": {},
     "output_type": "execute_result"
    }
   ],
   "source": [
    "data.head()\n",
    "# with data as fh:\n",
    "#     rd = csv.DictReader(fh,delimiter=\".\")\n",
    "#     for row in rd:\n",
    "#         print(row)"
   ]
  },
  {
   "cell_type": "markdown",
   "metadata": {},
   "source": [
    "# 2. Name field contains full name – use regular expression to separate title, first name, last name"
   ]
  },
  {
   "cell_type": "code",
   "execution_count": 23,
   "metadata": {},
   "outputs": [],
   "source": [
    "name1 = data[\"Name\"].str.split(\".\",n=1,expand=True)"
   ]
  },
  {
   "cell_type": "code",
   "execution_count": 24,
   "metadata": {
    "scrolled": true
   },
   "outputs": [
    {
     "data": {
      "text/html": [
       "<div>\n",
       "<style scoped>\n",
       "    .dataframe tbody tr th:only-of-type {\n",
       "        vertical-align: middle;\n",
       "    }\n",
       "\n",
       "    .dataframe tbody tr th {\n",
       "        vertical-align: top;\n",
       "    }\n",
       "\n",
       "    .dataframe thead th {\n",
       "        text-align: right;\n",
       "    }\n",
       "</style>\n",
       "<table border=\"1\" class=\"dataframe\">\n",
       "  <thead>\n",
       "    <tr style=\"text-align: right;\">\n",
       "      <th></th>\n",
       "      <th>0</th>\n",
       "      <th>1</th>\n",
       "    </tr>\n",
       "  </thead>\n",
       "  <tbody>\n",
       "    <tr>\n",
       "      <th>0</th>\n",
       "      <td>Mr</td>\n",
       "      <td>Owen Harris</td>\n",
       "    </tr>\n",
       "    <tr>\n",
       "      <th>1</th>\n",
       "      <td>Miss</td>\n",
       "      <td>Laina</td>\n",
       "    </tr>\n",
       "    <tr>\n",
       "      <th>2</th>\n",
       "      <td>Mr</td>\n",
       "      <td>William Henry</td>\n",
       "    </tr>\n",
       "    <tr>\n",
       "      <th>3</th>\n",
       "      <td>Mr</td>\n",
       "      <td>James</td>\n",
       "    </tr>\n",
       "    <tr>\n",
       "      <th>4</th>\n",
       "      <td>Mr</td>\n",
       "      <td>Timothy J</td>\n",
       "    </tr>\n",
       "  </tbody>\n",
       "</table>\n",
       "</div>"
      ],
      "text/plain": [
       "       0                1\n",
       "0     Mr     Owen Harris \n",
       "1   Miss           Laina \n",
       "2     Mr   William Henry \n",
       "3     Mr           James \n",
       "4     Mr       Timothy J "
      ]
     },
     "execution_count": 24,
     "metadata": {},
     "output_type": "execute_result"
    }
   ],
   "source": [
    "name1.head()"
   ]
  },
  {
   "cell_type": "code",
   "execution_count": 25,
   "metadata": {},
   "outputs": [],
   "source": [
    "data['Title']=name1[0]\n",
    "data['FirstName']=name1[1]"
   ]
  },
  {
   "cell_type": "code",
   "execution_count": 26,
   "metadata": {},
   "outputs": [],
   "source": [
    "data.drop(columns=[\"Name\"],inplace=True)"
   ]
  },
  {
   "cell_type": "code",
   "execution_count": 27,
   "metadata": {},
   "outputs": [
    {
     "data": {
      "text/html": [
       "<div>\n",
       "<style scoped>\n",
       "    .dataframe tbody tr th:only-of-type {\n",
       "        vertical-align: middle;\n",
       "    }\n",
       "\n",
       "    .dataframe tbody tr th {\n",
       "        vertical-align: top;\n",
       "    }\n",
       "\n",
       "    .dataframe thead th {\n",
       "        text-align: right;\n",
       "    }\n",
       "</style>\n",
       "<table border=\"1\" class=\"dataframe\">\n",
       "  <thead>\n",
       "    <tr style=\"text-align: right;\">\n",
       "      <th></th>\n",
       "      <th>LastName</th>\n",
       "      <th>Exception</th>\n",
       "      <th>Title</th>\n",
       "      <th>FirstName</th>\n",
       "    </tr>\n",
       "  </thead>\n",
       "  <tbody>\n",
       "    <tr>\n",
       "      <th>0</th>\n",
       "      <td>Braund</td>\n",
       "      <td>1</td>\n",
       "      <td>Mr</td>\n",
       "      <td>Owen Harris</td>\n",
       "    </tr>\n",
       "    <tr>\n",
       "      <th>1</th>\n",
       "      <td>Heikkinen</td>\n",
       "      <td>0</td>\n",
       "      <td>Miss</td>\n",
       "      <td>Laina</td>\n",
       "    </tr>\n",
       "    <tr>\n",
       "      <th>2</th>\n",
       "      <td>Allen</td>\n",
       "      <td>0</td>\n",
       "      <td>Mr</td>\n",
       "      <td>William Henry</td>\n",
       "    </tr>\n",
       "    <tr>\n",
       "      <th>3</th>\n",
       "      <td>Moran</td>\n",
       "      <td>0</td>\n",
       "      <td>Mr</td>\n",
       "      <td>James</td>\n",
       "    </tr>\n",
       "    <tr>\n",
       "      <th>4</th>\n",
       "      <td>McCarthy</td>\n",
       "      <td>0</td>\n",
       "      <td>Mr</td>\n",
       "      <td>Timothy J</td>\n",
       "    </tr>\n",
       "  </tbody>\n",
       "</table>\n",
       "</div>"
      ],
      "text/plain": [
       "     LastName  Exception  Title        FirstName\n",
       "0      Braund          1     Mr     Owen Harris \n",
       "1   Heikkinen          0   Miss           Laina \n",
       "2       Allen          0     Mr   William Henry \n",
       "3       Moran          0     Mr           James \n",
       "4    McCarthy          0     Mr       Timothy J "
      ]
     },
     "execution_count": 27,
     "metadata": {},
     "output_type": "execute_result"
    }
   ],
   "source": [
    "data.head()"
   ]
  },
  {
   "cell_type": "markdown",
   "metadata": {},
   "source": [
    "# 3. Store the data in Customer Class"
   ]
  },
  {
   "cell_type": "code",
   "execution_count": 28,
   "metadata": {},
   "outputs": [
    {
     "data": {
      "text/html": [
       "<div>\n",
       "<style scoped>\n",
       "    .dataframe tbody tr th:only-of-type {\n",
       "        vertical-align: middle;\n",
       "    }\n",
       "\n",
       "    .dataframe tbody tr th {\n",
       "        vertical-align: top;\n",
       "    }\n",
       "\n",
       "    .dataframe thead th {\n",
       "        text-align: right;\n",
       "    }\n",
       "</style>\n",
       "<table border=\"1\" class=\"dataframe\">\n",
       "  <thead>\n",
       "    <tr style=\"text-align: right;\">\n",
       "      <th></th>\n",
       "      <th>Title</th>\n",
       "      <th>FirstName</th>\n",
       "      <th>LastName</th>\n",
       "      <th>Exception</th>\n",
       "    </tr>\n",
       "  </thead>\n",
       "  <tbody>\n",
       "    <tr>\n",
       "      <th>0</th>\n",
       "      <td>Mr</td>\n",
       "      <td>Owen Harris</td>\n",
       "      <td>Braund</td>\n",
       "      <td>1</td>\n",
       "    </tr>\n",
       "    <tr>\n",
       "      <th>1</th>\n",
       "      <td>Miss</td>\n",
       "      <td>Laina</td>\n",
       "      <td>Heikkinen</td>\n",
       "      <td>0</td>\n",
       "    </tr>\n",
       "    <tr>\n",
       "      <th>2</th>\n",
       "      <td>Mr</td>\n",
       "      <td>William Henry</td>\n",
       "      <td>Allen</td>\n",
       "      <td>0</td>\n",
       "    </tr>\n",
       "    <tr>\n",
       "      <th>3</th>\n",
       "      <td>Mr</td>\n",
       "      <td>James</td>\n",
       "      <td>Moran</td>\n",
       "      <td>0</td>\n",
       "    </tr>\n",
       "    <tr>\n",
       "      <th>4</th>\n",
       "      <td>Mr</td>\n",
       "      <td>Timothy J</td>\n",
       "      <td>McCarthy</td>\n",
       "      <td>0</td>\n",
       "    </tr>\n",
       "  </tbody>\n",
       "</table>\n",
       "</div>"
      ],
      "text/plain": [
       "   Title        FirstName    LastName  Exception\n",
       "0     Mr     Owen Harris       Braund          1\n",
       "1   Miss           Laina    Heikkinen          0\n",
       "2     Mr   William Henry        Allen          0\n",
       "3     Mr           James        Moran          0\n",
       "4     Mr       Timothy J     McCarthy          0"
      ]
     },
     "execution_count": 28,
     "metadata": {},
     "output_type": "execute_result"
    }
   ],
   "source": [
    "columnsTitles = ['Title', 'FirstName', 'LastName','Exception']\n",
    "Customer_Class = data.reindex(columns=columnsTitles)\n",
    "Customer_Class.head()"
   ]
  },
  {
   "cell_type": "markdown",
   "metadata": {},
   "source": [
    "# 4. Create Custom Exception – CustomerNotAllowedException"
   ]
  },
  {
   "cell_type": "code",
   "execution_count": 29,
   "metadata": {},
   "outputs": [
    {
     "data": {
      "text/html": [
       "<div>\n",
       "<style scoped>\n",
       "    .dataframe tbody tr th:only-of-type {\n",
       "        vertical-align: middle;\n",
       "    }\n",
       "\n",
       "    .dataframe tbody tr th {\n",
       "        vertical-align: top;\n",
       "    }\n",
       "\n",
       "    .dataframe thead th {\n",
       "        text-align: right;\n",
       "    }\n",
       "</style>\n",
       "<table border=\"1\" class=\"dataframe\">\n",
       "  <thead>\n",
       "    <tr style=\"text-align: right;\">\n",
       "      <th></th>\n",
       "      <th>Title</th>\n",
       "      <th>FirstName</th>\n",
       "      <th>LastName</th>\n",
       "      <th>Exception</th>\n",
       "      <th>CustomerStatus</th>\n",
       "    </tr>\n",
       "  </thead>\n",
       "  <tbody>\n",
       "    <tr>\n",
       "      <th>0</th>\n",
       "      <td>Mr</td>\n",
       "      <td>Owen Harris</td>\n",
       "      <td>Braund</td>\n",
       "      <td>1</td>\n",
       "      <td>Customer not allowed Expcetion</td>\n",
       "    </tr>\n",
       "    <tr>\n",
       "      <th>1</th>\n",
       "      <td>Miss</td>\n",
       "      <td>Laina</td>\n",
       "      <td>Heikkinen</td>\n",
       "      <td>0</td>\n",
       "      <td>Customer Expcetion</td>\n",
       "    </tr>\n",
       "    <tr>\n",
       "      <th>2</th>\n",
       "      <td>Mr</td>\n",
       "      <td>William Henry</td>\n",
       "      <td>Allen</td>\n",
       "      <td>0</td>\n",
       "      <td>Customer Expcetion</td>\n",
       "    </tr>\n",
       "    <tr>\n",
       "      <th>3</th>\n",
       "      <td>Mr</td>\n",
       "      <td>James</td>\n",
       "      <td>Moran</td>\n",
       "      <td>0</td>\n",
       "      <td>Customer Expcetion</td>\n",
       "    </tr>\n",
       "    <tr>\n",
       "      <th>4</th>\n",
       "      <td>Mr</td>\n",
       "      <td>Timothy J</td>\n",
       "      <td>McCarthy</td>\n",
       "      <td>0</td>\n",
       "      <td>Customer Expcetion</td>\n",
       "    </tr>\n",
       "  </tbody>\n",
       "</table>\n",
       "</div>"
      ],
      "text/plain": [
       "   Title        FirstName    LastName  Exception  \\\n",
       "0     Mr     Owen Harris       Braund          1   \n",
       "1   Miss           Laina    Heikkinen          0   \n",
       "2     Mr   William Henry        Allen          0   \n",
       "3     Mr           James        Moran          0   \n",
       "4     Mr       Timothy J     McCarthy          0   \n",
       "\n",
       "                   CustomerStatus  \n",
       "0  Customer not allowed Expcetion  \n",
       "1              Customer Expcetion  \n",
       "2              Customer Expcetion  \n",
       "3              Customer Expcetion  \n",
       "4              Customer Expcetion  "
      ]
     },
     "execution_count": 29,
     "metadata": {},
     "output_type": "execute_result"
    }
   ],
   "source": [
    "Customer_Class['CustomerStatus']=np.where( Customer_Class['Exception']==1,'Customer not allowed Expcetion','Customer Expcetion')\n",
    "Customer_Class.head()"
   ]
  },
  {
   "cell_type": "code",
   "execution_count": 30,
   "metadata": {},
   "outputs": [],
   "source": [
    "#test = Customer_Class.sort_values(['Exception'],ascending=False)\n",
    "#test.head()"
   ]
  },
  {
   "cell_type": "code",
   "execution_count": 31,
   "metadata": {},
   "outputs": [],
   "source": [
    "#Customer_Class1 = Customer_Class[Customer_Class['Exception']==1]\n",
    "#Customer_Class1.head()\n",
    "#y = Customer_Class1[0:10]\n",
    "#y.loc[0][0]"
   ]
  },
  {
   "cell_type": "markdown",
   "metadata": {},
   "source": [
    "# 5. Pass a customer to function \"createOrder\" and throw CustomerNotAllowedException in case of blacklisted value is 1"
   ]
  },
  {
   "cell_type": "code",
   "execution_count": 32,
   "metadata": {},
   "outputs": [],
   "source": [
    "class corder():\n",
    "    def __init__(self,first,last):\n",
    "        self.first = first\n",
    "        self.last = last\n",
    "    def getlistfuc(self):\n",
    "        for index, row in Customer_Class.iterrows():\n",
    "            if self.first in row.FirstName and self.last in row.LastName: \n",
    "                if row.Exception == 1:\n",
    "                    z = \"Exception Not Allowed handled message Customer is Black Listed: Title:\"+row.Title,\" First Name: \",row.FirstName,\" LastName :\", row.LastName,\" Black Listed :\",str(row.Exception)\n",
    "                    str1 = ''.join(e for e in list(z))\n",
    "                    print(str1)\n",
    "                    break\n",
    "                else:\n",
    "                    z = \"Order Created Sucessfully for : Title:\"+row.Title,\" First Name: \",row.FirstName,\" LastName :\", row.LastName,\" Black Listed :\",str(row.Exception)\n",
    "                    str1 = ''.join(e for e in list(z))\n",
    "                    print(str1)\n",
    "                    break"
   ]
  },
  {
   "cell_type": "code",
   "execution_count": 34,
   "metadata": {},
   "outputs": [
    {
     "name": "stdout",
     "output_type": "stream",
     "text": [
      "Enter the FirstName and Last Name with coma :Owen Harris,Braund\n",
      "Owen Harris,Braund\n",
      "['Owen Harris', 'Braund']\n"
     ]
    }
   ],
   "source": [
    "b = input(\"Enter the FirstName and Last Name with coma :\")\n",
    "print(b)\n",
    "c = b.split(',')\n",
    "print(c)\n",
    "#William Henry\tAllen"
   ]
  },
  {
   "cell_type": "code",
   "execution_count": 35,
   "metadata": {},
   "outputs": [
    {
     "name": "stdout",
     "output_type": "stream",
     "text": [
      "Exception Not Allowed handled message Customer is Black Listed: Title: Mr First Name:  Owen Harris  LastName : Braund Black Listed :1\n"
     ]
    }
   ],
   "source": [
    "corder(c[0],c[1]).getlistfuc()"
   ]
  },
  {
   "cell_type": "code",
   "execution_count": 36,
   "metadata": {},
   "outputs": [
    {
     "name": "stdout",
     "output_type": "stream",
     "text": [
      "Helloworld\n",
      "123456789\n"
     ]
    }
   ],
   "source": [
    "class combinewword():\n",
    "    def __init__(self,a):\n",
    "        self.a = a\n",
    "    def printletter(self):\n",
    "        word = []\n",
    "        digit = []\n",
    "        for each in self.a:\n",
    "            if each.isalpha():\n",
    "                word.append(each)\n",
    "            else:\n",
    "                digit.append(each)\n",
    "        print(''.join(word))\n",
    "        print(''.join(digit))\n",
    "        \n",
    "s = combinewword(\"H1e2l3l4o5w6o7r8l9d\")\n",
    "s.printletter()"
   ]
  },
  {
   "cell_type": "code",
   "execution_count": 37,
   "metadata": {},
   "outputs": [],
   "source": [
    "# Customer_Class.groupby(['FirstName'])['FirstName'].count().head()"
   ]
  },
  {
   "cell_type": "code",
   "execution_count": 38,
   "metadata": {},
   "outputs": [],
   "source": [
    "# var = 'Albert'\n",
    "# Customer_Class[Customer_Class['FirstName'].str.strip() == var]"
   ]
  },
  {
   "cell_type": "code",
   "execution_count": 39,
   "metadata": {},
   "outputs": [],
   "source": [
    "# firstname = 'Albert'\n",
    "# lastname = 'Mallet'\n",
    "# a = Customer_Class[(Customer_Class['FirstName'].str.strip() == firstname) & (Customer_Class['LastName'].str.strip() == lastname)]\n",
    "# print(a)\n"
   ]
  }
 ],
 "metadata": {
  "kernelspec": {
   "display_name": "Python 3",
   "language": "python",
   "name": "python3"
  },
  "language_info": {
   "codemirror_mode": {
    "name": "ipython",
    "version": 3
   },
   "file_extension": ".py",
   "mimetype": "text/x-python",
   "name": "python",
   "nbconvert_exporter": "python",
   "pygments_lexer": "ipython3",
   "version": "3.7.0"
  }
 },
 "nbformat": 4,
 "nbformat_minor": 2
}
