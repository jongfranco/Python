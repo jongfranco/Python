{
 "cells": [
  {
   "cell_type": "markdown",
   "metadata": {},
   "source": [
    "# 1. A Robot moves in a Plane starting from the origin point (0,0). The robot can move\n",
    "toward UP, DOWN, LEFT, RIGHT. The trace of Robot movement is as given\n",
    "\n",
    "following:\n",
    "\n",
    "UP 5\n",
    "\n",
    "DOWN 3\n",
    "\n",
    "LEFT 3\n",
    "\n",
    "RIGHT 2\n",
    "\n",
    "The numbers after directions are steps. Write a program to compute the\n",
    "distance current position after sequence of movements.\n",
    "Hint: Use math module."
   ]
  },
  {
   "cell_type": "code",
   "execution_count": 41,
   "metadata": {},
   "outputs": [
    {
     "name": "stdout",
     "output_type": "stream",
     "text": [
      "Give Input like UP 5 or DOWN 4 or LEFT 3 or RIGHT 5\n",
      "UP 10\n",
      "Type enter on your key board again\n",
      "\n",
      "Type enter on your key board again\n",
      "10 0\n",
      "Current Position is :\n",
      "10\n"
     ]
    }
   ],
   "source": [
    "import math\n",
    "print('Give Input like UP 5 or DOWN 4 or LEFT 3 or RIGHT 5')\n",
    "def planeposition():\n",
    "    position = [0, 0]\n",
    "    while True:\n",
    "        input_value = input()\n",
    "        print(\"Type enter on your key board again\")\n",
    "        position_value = input_value.split(' ')\n",
    "        if position_value[0].upper() == 'UP':\n",
    "            position[0] += int(position_value[1])\n",
    "        elif position_value[0].upper() == 'DOWN':\n",
    "            position[0] -= int(position_value[1])\n",
    "        elif position_value[0].upper() == 'LEFT':\n",
    "            position[1] -= int(position_value[1])\n",
    "        elif position_value[0].upper() == 'RIGHT':\n",
    "            position[1] += int(position_value[1])\n",
    "        elif not input_value:\n",
    "            break\n",
    "        else:\n",
    "            pass\n",
    "    print(position[0], position[1])\n",
    "    print ('Current Position is :',)\n",
    "    print (int(round(math.sqrt(position[0] ** 2 + position[1] ** 2))))\n",
    "if __name__ == '__main__':\n",
    "    planeposition()"
   ]
  },
  {
   "cell_type": "markdown",
   "metadata": {},
   "source": [
    "# 2. Data of XYZ company is stored in sorted list. Write a program for searching\n",
    "specific data from that list.\n",
    "Hint: Use if/elif to deal with conditions."
   ]
  },
  {
   "cell_type": "code",
   "execution_count": 42,
   "metadata": {},
   "outputs": [],
   "source": [
    "def listvalues1(a, search):\n",
    "    search_to = 0\n",
    "    search_dfor = False\n",
    "\n",
    "    while search_to < len(a) and search_dfor is False:\n",
    "        if a[search_to] == search:\n",
    "            search_dfor = True\n",
    "        else:\n",
    "            search_to = search_to + 1\n",
    "\n",
    "    return search_dfor"
   ]
  },
  {
   "cell_type": "code",
   "execution_count": 43,
   "metadata": {},
   "outputs": [
    {
     "data": {
      "text/plain": [
       "False"
      ]
     },
     "execution_count": 43,
     "metadata": {},
     "output_type": "execute_result"
    }
   ],
   "source": [
    "l = [64, 34, 25, 12, 22, 11, 90,'pen','car','book']\n",
    "listvalues1(l, 'pencil')"
   ]
  },
  {
   "cell_type": "markdown",
   "metadata": {},
   "source": [
    "# 3.Weather forecasting organization wants to show is it day or night. So, write a program for such organization to find whether is it dark outside or not.\n",
    "Hint: Use time module "
   ]
  },
  {
   "cell_type": "code",
   "execution_count": 44,
   "metadata": {},
   "outputs": [
    {
     "name": "stdout",
     "output_type": "stream",
     "text": [
      "day\n"
     ]
    }
   ],
   "source": [
    "from datetime import datetime, time\n",
    "\n",
    "now = datetime.now()\n",
    "\n",
    "now_time = now.time()\n",
    "\n",
    "if now_time >= time(23,00) or now_time <= time(8,00):\n",
    "    print (\"night\")\n",
    "else: \n",
    "    print (\"day\")"
   ]
  },
  {
   "cell_type": "code",
   "execution_count": 45,
   "metadata": {},
   "outputs": [
    {
     "name": "stdout",
     "output_type": "stream",
     "text": [
      "Enter city name : Hyderabad\n",
      "{'city': {'id': 1269843, 'name': 'Hyderabad', 'coord': {'lon': 78.4747, 'lat': 17.3616}, 'country': 'IN', 'population': 3597816}, 'cod': '200', 'message': 0.0536653, 'cnt': 7, 'list': [{'dt': 1546754400, 'temp': {'day': 20.43, 'min': 17.36, 'max': 20.43, 'night': 17.36, 'eve': 20.43, 'morn': 20.43}, 'pressure': 969.31, 'humidity': 77, 'weather': [{'id': 800, 'main': 'Clear', 'description': 'sky is clear', 'icon': '01n'}], 'speed': 3.35, 'deg': 115, 'clouds': 0}, {'dt': 1546840800, 'temp': {'day': 25.98, 'min': 14.15, 'max': 28.24, 'night': 17.84, 'eve': 26.88, 'morn': 14.15}, 'pressure': 969.38, 'humidity': 64, 'weather': [{'id': 800, 'main': 'Clear', 'description': 'sky is clear', 'icon': '01d'}], 'speed': 1.17, 'deg': 150, 'clouds': 0}, {'dt': 1546927200, 'temp': {'day': 22.24, 'min': 11.03, 'max': 24.7, 'night': 11.03, 'eve': 22.42, 'morn': 14.37}, 'pressure': 970.57, 'humidity': 52, 'weather': [{'id': 800, 'main': 'Clear', 'description': 'sky is clear', 'icon': '01d'}], 'speed': 4.01, 'deg': 21, 'clouds': 0}, {'dt': 1547013600, 'temp': {'day': 22.61, 'min': 8.46, 'max': 25.07, 'night': 10.19, 'eve': 22.44, 'morn': 8.46}, 'pressure': 970.27, 'humidity': 46, 'weather': [{'id': 800, 'main': 'Clear', 'description': 'sky is clear', 'icon': '01d'}], 'speed': 3.81, 'deg': 29, 'clouds': 0}, {'dt': 1547100000, 'temp': {'day': 23.57, 'min': 6.21, 'max': 23.57, 'night': 10.62, 'eve': 23.48, 'morn': 6.21}, 'pressure': 970.67, 'humidity': 0, 'weather': [{'id': 800, 'main': 'Clear', 'description': 'sky is clear', 'icon': '01d'}], 'speed': 2.62, 'deg': 93, 'clouds': 0}, {'dt': 1547186400, 'temp': {'day': 23.18, 'min': 6.74, 'max': 23.18, 'night': 10.98, 'eve': 22.93, 'morn': 6.74}, 'pressure': 972.28, 'humidity': 0, 'weather': [{'id': 800, 'main': 'Clear', 'description': 'sky is clear', 'icon': '01d'}], 'speed': 3.43, 'deg': 113, 'clouds': 0}, {'dt': 1547272800, 'temp': {'day': 22.49, 'min': 13.5, 'max': 24.62, 'night': 16.34, 'eve': 24.62, 'morn': 13.5}, 'pressure': 971.2, 'humidity': 0, 'weather': [{'id': 800, 'main': 'Clear', 'description': 'sky is clear', 'icon': '01d'}], 'speed': 4.29, 'deg': 133, 'clouds': 26}]}\n",
      "The City is Hyderabad todays HIGH is 20.43\n"
     ]
    }
   ],
   "source": [
    "#Weather Forecaset\n",
    "import requests\n",
    "\n",
    "city_name = input(\"Enter city name : \")\n",
    "url = 'http://api.openweathermap.org/data/2.5/forecast/daily?q='+city_name+'&mode=json&units=metric&cnt=7&appid=146f5f89c18a703450d3bd6737d4fc94'\n",
    "\n",
    "response = requests.get(url)\n",
    "\n",
    "response.text # this is a string\n",
    "print(response.json()) # this is a json dictionary\n",
    "\n",
    "s = \"The City is {city[name]} todays HIGH is {list[0][temp][max]}\".format(**response.json())\n",
    "print(s)"
   ]
  },
  {
   "cell_type": "markdown",
   "metadata": {},
   "source": [
    "# 4.Write a program to find distance between two locations when their latitude and longitudes are given.\n",
    "Hint: Use math module."
   ]
  },
  {
   "cell_type": "code",
   "execution_count": 46,
   "metadata": {},
   "outputs": [],
   "source": [
    "from math import radians, sin, cos, acos\n",
    "\n",
    "def distnacecalculation(slat1,slon1,elat1,enlot1):\n",
    "    slat = radians(float(slat1))\n",
    "    print(\"slat = \",slat)\n",
    "    slon = radians(float(slon1))\n",
    "    print(\"slon = \",slon)\n",
    "    elat = radians(float(elat1))\n",
    "    print(\"elat = \",elat)\n",
    "    elon = radians(float(enlot1))\n",
    "    print(\"elon = \",elon)\n",
    "    dist = 6371.01 * acos(sin(slat)*sin(elat) + cos(slat)*cos(elat)*cos(slon - elon))\n",
    "    print(\"The distance is %.2fkm.\" % dist)\n"
   ]
  },
  {
   "cell_type": "code",
   "execution_count": 47,
   "metadata": {},
   "outputs": [
    {
     "name": "stdout",
     "output_type": "stream",
     "text": [
      "slat =  0.30342549045921424\n",
      "slon =  1.3698513340250333\n",
      "elat =  0.3329390081104383\n",
      "elon =  1.2719558162806717\n",
      "The distance is 621.46km.\n"
     ]
    }
   ],
   "source": [
    "distnacecalculation(17.3850,78.4867,19.0760,72.8777)"
   ]
  },
  {
   "cell_type": "markdown",
   "metadata": {},
   "source": [
    "# 5. Design a software for bank system. There should be options like cash withdraw, cash credit and change password. According to user input, the software should provide required output.\n",
    "\n",
    "Hint: Use if else statements and functions"
   ]
  },
  {
   "cell_type": "code",
   "execution_count": 48,
   "metadata": {},
   "outputs": [
    {
     "name": "stdout",
     "output_type": "stream",
     "text": [
      "For Cash Withdraw type 1, For Cash Credit type 2, For Change Password Type 3 : 2\n",
      "2\n",
      "Please enter the amount : 1000\n",
      "Your amount will credited in 48 hours\n"
     ]
    }
   ],
   "source": [
    "import time\n",
    "import getpass\n",
    "def bankATM(Userdetails):\n",
    "    #a = print(\"For Cash Withdraw type 1, For Cash Credit type 2, For Change Password Type 3 : \")\n",
    "    a = int(Userdetails)\n",
    "    print (a)\n",
    "    if a == 1:\n",
    "        input(\"Please enter the amount : \")\n",
    "        time.sleep(0.50)\n",
    "        print(\"Collect your money\")\n",
    "    elif a==2:\n",
    "        input(\"Please enter the amount : \")\n",
    "        time.sleep(0.50)\n",
    "        print(\"Your amount will credited in 48 hours\")\n",
    "    else:\n",
    "        getpass.getpass(\"Enter the four digits new password : \")\n",
    "        time.sleep(0.50)\n",
    "        print(\"Your password is changed\")\n",
    "\n",
    "Userdetails = input(\"For Cash Withdraw type 1, For Cash Credit type 2, For Change Password Type 3 : \")\n",
    "bankATM(Userdetails)\n"
   ]
  },
  {
   "cell_type": "markdown",
   "metadata": {},
   "source": [
    "# 6. Write a program which will find all such numbers which are divisible by 7 but are not a multiple of 5, between 2000 and 3200 (both included). The numbers obtained should be printed in a comma-separated sequence on a single line."
   ]
  },
  {
   "cell_type": "code",
   "execution_count": 49,
   "metadata": {},
   "outputs": [
    {
     "name": "stdout",
     "output_type": "stream",
     "text": [
      "[2002, 2009, 2016, 2023, 2030, 2037, 2044, 2051, 2058, 2065, 2072, 2079, 2086, 2093, 2107, 2114, 2121, 2128, 2135, 2142, 2149, 2156, 2163, 2170, 2177, 2184, 2191, 2198, 2205, 2212, 2219, 2226, 2233, 2240, 2247, 2254, 2261, 2268, 2282, 2289, 2296, 2303, 2310, 2317, 2324, 2331, 2338, 2345, 2352, 2359, 2366, 2373, 2380, 2387, 2394, 2401, 2408, 2415, 2422, 2429, 2436, 2443, 2457, 2464, 2471, 2478, 2485, 2492, 2499, 2506, 2513, 2520, 2527, 2534, 2541, 2548, 2555, 2562, 2569, 2576, 2583, 2590, 2597, 2604, 2611, 2618, 2632, 2639, 2646, 2653, 2660, 2667, 2674, 2681, 2688, 2695, 2702, 2709, 2716, 2723, 2730, 2737, 2744, 2751, 2758, 2765, 2772, 2779, 2786, 2793, 2807, 2814, 2821, 2828, 2835, 2842, 2849, 2856, 2863, 2870, 2877, 2884, 2891, 2898, 2905, 2912, 2919, 2926, 2933, 2940, 2947, 2954, 2961, 2968, 2982, 2989, 2996, 3003, 3010, 3017, 3024, 3031, 3038, 3045, 3052, 3059, 3066, 3073, 3080, 3087, 3094, 3101, 3108, 3115, 3122, 3129, 3136, 3143, 3157, 3164, 3171, 3178, 3185, 3192, 3199]\n"
     ]
    }
   ],
   "source": [
    "num = list(range(2000,3201))\n",
    "sq1=[]\n",
    "def evennumber(num):\n",
    "    for each in num:\n",
    "        if each%7==0:\n",
    "            x = each/5.0\n",
    "            if x%5!=0:\n",
    "                sq1.append(each)\n",
    "            \n",
    "evennumber(list(range(2000,3201)))\n",
    "print(sq1)"
   ]
  },
  {
   "cell_type": "markdown",
   "metadata": {},
   "source": [
    "# 7. Write a program which can compute the factorial of a given numbers. Use recursion to find it.\n",
    "Hint: Suppose the following input is supplied to the program:"
   ]
  },
  {
   "cell_type": "code",
   "execution_count": 50,
   "metadata": {},
   "outputs": [
    {
     "data": {
      "text/plain": [
       "40320"
      ]
     },
     "execution_count": 50,
     "metadata": {},
     "output_type": "execute_result"
    }
   ],
   "source": [
    "def recursion(n):\n",
    "   if n == 1:\n",
    "       return n\n",
    "   else:\n",
    "       return n*recursion(n-1)\n",
    "num = 8\n",
    "recursion(num)"
   ]
  },
  {
   "cell_type": "markdown",
   "metadata": {},
   "source": [
    "# 8. Write a program that calculates and prints the value according to the given formula:\n",
    "Q = Square root of [(2 * C * D)/H]\n",
    "Following are the fixed values of C and H: C is 50. H is 30.\n",
    "D is the variable whose values should be input to your program in a comma- separated sequence.\n",
    "\n",
    "Example:\n",
    "\n",
    "Let us assume the following comma separated input sequence is given to the program:\n",
    "\n",
    "100,150,180\n",
    "\n",
    "The output of the program should be:\n",
    "\n",
    "18,22,24"
   ]
  },
  {
   "cell_type": "code",
   "execution_count": 51,
   "metadata": {},
   "outputs": [
    {
     "name": "stdout",
     "output_type": "stream",
     "text": [
      "Enter the digit :10\n",
      "5\n"
     ]
    }
   ],
   "source": [
    "import math as mt\n",
    "def squareroot(a):\n",
    "    c = 50\n",
    "    H = 30\n",
    "    D = a\n",
    "    print(int(mt.sqrt((2 * c * D)/H)))\n",
    "    \n",
    "    \n",
    "a = int(input(\"Enter the digit :\"))\n",
    "squareroot(a)"
   ]
  },
  {
   "cell_type": "markdown",
   "metadata": {},
   "source": [
    "# 9. Write a program which takes 2 digits, X,Y as input and generates a 2-dimensional array. The element value in the i-th row and j-th column of the array should be i*j.\n",
    "Note: i=0,1.., X-1; j=0,1,¡Y-1.\n",
    "\n",
    "Example:\n",
    "\n",
    "Suppose the following inputs are given to the program:\n",
    "\n",
    "3,5\n",
    "\n",
    "Then, the output of the program should be:\n",
    "\n",
    "[[0, 0, 0, 0, 0], [0, 1, 2, 3, 4], [0, 2, 4, 6, 8]]"
   ]
  },
  {
   "cell_type": "code",
   "execution_count": 52,
   "metadata": {},
   "outputs": [
    {
     "name": "stdout",
     "output_type": "stream",
     "text": [
      "Input number of rows: 3\n",
      "Input number of columns: 5\n",
      "[[0, 0, 0, 0, 0], [0, 1, 2, 3, 4], [0, 2, 4, 6, 8]]\n"
     ]
    }
   ],
   "source": [
    "row_num = int(input(\"Input number of rows: \"))\n",
    "col_num = int(input(\"Input number of columns: \"))\n",
    "multi_list = [[0 for col in range(col_num)] for row in range(row_num)]\n",
    "\n",
    "for row in range(row_num):\n",
    "    for col in range(col_num):\n",
    "        multi_list[row][col]= row*col\n",
    "\n",
    "print(multi_list)"
   ]
  },
  {
   "cell_type": "markdown",
   "metadata": {},
   "source": [
    "# 10. Write a program that accepts a comma separated sequence of words as input and prints the words in a comma-separated sequence after sorting them alphabetically.\n",
    "\n",
    "Suppose the following input is supplied to the program:\n",
    "    \n",
    "without,hello,bag,world\n",
    "\n",
    "Then, the output should be:\n",
    "    \n",
    "bag,hello,without,world"
   ]
  },
  {
   "cell_type": "code",
   "execution_count": 53,
   "metadata": {},
   "outputs": [
    {
     "name": "stdout",
     "output_type": "stream",
     "text": [
      "['bag', 'hello', 'without', 'world']\n"
     ]
    }
   ],
   "source": [
    "def sortwords(word):\n",
    "    #sortwords = input(\"Enter the sentence : \")\n",
    "    a = word#.split('')\n",
    "    a.sort()\n",
    "    list=[]\n",
    "    for each in a:\n",
    "        list.append(each)\n",
    "    print(list)\n",
    "#sortwords(input(\"What is your sentence : \"))\n",
    "\n",
    "\n",
    "word1 = ['without','hello','bag','world']\n",
    "sortwords(word1)\n",
    "\n"
   ]
  },
  {
   "cell_type": "markdown",
   "metadata": {},
   "source": [
    "# 11. Write a program that accepts sequence of lines as input and prints the lines after making all characters in the sentence capitalized.\n",
    "\n",
    "Suppose the following input is supplied to the program:\n",
    "\n",
    "Hello world\n",
    "\n",
    "Practice makes perfect\n",
    "\n",
    "Then, the output should be:\n",
    "\n",
    "HELLO WORLD\n",
    "\n",
    "PRACTICE MAKES PERFECT"
   ]
  },
  {
   "cell_type": "code",
   "execution_count": 54,
   "metadata": {},
   "outputs": [
    {
     "name": "stdout",
     "output_type": "stream",
     "text": [
      "HELLO WORLD\n",
      "PRACTICE MAKES PERFECT\n"
     ]
    }
   ],
   "source": [
    "a =\"Hello world\"\n",
    "print(a.upper())\n",
    "\n",
    "b = \"Practice makes perfect\"\n",
    "print(b.upper())\n"
   ]
  },
  {
   "cell_type": "markdown",
   "metadata": {},
   "source": [
    "# 12.Write a program that accepts a sequence of whitespace separated words as input and prints the words after removing all duplicate words and sorting them alphanumerically.\n",
    "Suppose the following input is supplied to the program:\n",
    "    \n",
    "hello world and practice makes perfect and hello world again\n",
    "\n",
    "Then, the output should be:\n",
    "    \n",
    "again and hello makes perfect practice world"
   ]
  },
  {
   "cell_type": "code",
   "execution_count": 55,
   "metadata": {},
   "outputs": [
    {
     "name": "stdout",
     "output_type": "stream",
     "text": [
      "['again', 'and', 'hello', 'makes', 'perfect', 'practice', 'world']\n"
     ]
    }
   ],
   "source": [
    "def sortwords(word):\n",
    "    #sortwords = input(\"Enter the sentence : \")\n",
    "    a = word.split(' ')\n",
    "    a.sort()\n",
    "    list=[]\n",
    "    for each in a:\n",
    "        c =[]\n",
    "        for each in a:\n",
    "            if each not in c:\n",
    "                c.append(each)\n",
    "    print(c)\n",
    "    #print(' '.join(c))\n",
    "\n",
    "word1 = \"hello world and practice makes perfect and hello world again\"\n",
    "sortwords(word1)"
   ]
  },
  {
   "cell_type": "markdown",
   "metadata": {},
   "source": [
    "# 13. Write a program which accepts a sequence of comma separated 4 digit binary numbers as its input and then check whether they are divisible by 5 or not. The numbers that are divisible by 5 are to be printed in a comma separated sequence.\n",
    "\n",
    "Example:\n",
    "\n",
    "0100,0011,1010,1001\n",
    "\n",
    "Then the output should be:\n",
    "\n",
    "1010"
   ]
  },
  {
   "cell_type": "code",
   "execution_count": 56,
   "metadata": {},
   "outputs": [],
   "source": [
    "def evennumber(num):\n",
    "    a = num\n",
    "    sq1=[]\n",
    "    for each in a:\n",
    "        x = int(each,2)\n",
    "        if x%5==0:\n",
    "            sq1.append(each)\n",
    "    print(\"Output is : \",','.join(sq1))\n",
    "            "
   ]
  },
  {
   "cell_type": "code",
   "execution_count": 58,
   "metadata": {},
   "outputs": [
    {
     "name": "stdout",
     "output_type": "stream",
     "text": [
      "0100,0011,1010,1001\n",
      "Output is :  1010\n"
     ]
    }
   ],
   "source": [
    "a = [x for x in input().split(',')]\n",
    "evennumber(a)"
   ]
  },
  {
   "cell_type": "markdown",
   "metadata": {},
   "source": [
    "# 14. Write a program that accepts a sentence and calculate the number of upper case letters and lower case letters.\n",
    "Suppose the following input is supplied to the program:\n",
    "    \n",
    "Hello world!\n",
    "\n",
    "Then, the output should be:\n",
    "UPPER CASE 1\n",
    "LOWER CASE 9"
   ]
  },
  {
   "cell_type": "code",
   "execution_count": 59,
   "metadata": {},
   "outputs": [
    {
     "name": "stdout",
     "output_type": "stream",
     "text": [
      "UPPER CASE :  2\n",
      "LOWER CASE :  9\n"
     ]
    }
   ],
   "source": [
    "def letter(a):\n",
    "    upper = 0\n",
    "    lower = 0\n",
    "    for each in a:\n",
    "        if each.isupper():\n",
    "            upper=upper+1\n",
    "        else:\n",
    "            lower=lower+1\n",
    "    print(\"UPPER CASE : \",upper)\n",
    "    print(\"LOWER CASE : \",lower)\n",
    "#letter(input(\"The letter with digit : \"))\n",
    "letter(\"Hello World\")\n",
    "\n"
   ]
  },
  {
   "cell_type": "markdown",
   "metadata": {},
   "source": [
    "# 15. Give example of fsum and sum function of math library."
   ]
  },
  {
   "cell_type": "code",
   "execution_count": 60,
   "metadata": {},
   "outputs": [
    {
     "data": {
      "text/plain": [
       "45"
      ]
     },
     "execution_count": 60,
     "metadata": {},
     "output_type": "execute_result"
    }
   ],
   "source": [
    "a = range(10)\n",
    "sum(a)"
   ]
  },
  {
   "cell_type": "code",
   "execution_count": 61,
   "metadata": {},
   "outputs": [
    {
     "data": {
      "text/plain": [
       "45.0"
      ]
     },
     "execution_count": 61,
     "metadata": {},
     "output_type": "execute_result"
    }
   ],
   "source": [
    "math.fsum(a)"
   ]
  }
 ],
 "metadata": {
  "kernelspec": {
   "display_name": "Python 3",
   "language": "python",
   "name": "python3"
  },
  "language_info": {
   "codemirror_mode": {
    "name": "ipython",
    "version": 3
   },
   "file_extension": ".py",
   "mimetype": "text/x-python",
   "name": "python",
   "nbconvert_exporter": "python",
   "pygments_lexer": "ipython3",
   "version": "3.7.0"
  }
 },
 "nbformat": 4,
 "nbformat_minor": 2
}
