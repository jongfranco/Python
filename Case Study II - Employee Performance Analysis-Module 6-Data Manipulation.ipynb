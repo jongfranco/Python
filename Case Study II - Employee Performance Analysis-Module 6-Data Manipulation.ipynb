{
 "cells": [
  {
   "cell_type": "code",
   "execution_count": 10,
   "metadata": {},
   "outputs": [],
   "source": [
    "import pandas as pd\n",
    "import numpy as np\n",
    "import matplotlib.pyplot as plt\n",
    "import seaborn as sns"
   ]
  },
  {
   "cell_type": "code",
   "execution_count": 11,
   "metadata": {},
   "outputs": [
    {
     "name": "stderr",
     "output_type": "stream",
     "text": [
      "C:\\ProgramData\\Anaconda3\\lib\\site-packages\\IPython\\core\\interactiveshell.py:2785: DtypeWarning: Columns (12) have mixed types. Specify dtype option on import or set low_memory=False.\n",
      "  interactivity=interactivity, compiler=compiler, result=result)\n"
     ]
    }
   ],
   "source": [
    "SFO = pd.read_csv('Salaries.csv')"
   ]
  },
  {
   "cell_type": "code",
   "execution_count": 12,
   "metadata": {
    "scrolled": true
   },
   "outputs": [
    {
     "data": {
      "text/html": [
       "<div>\n",
       "<style scoped>\n",
       "    .dataframe tbody tr th:only-of-type {\n",
       "        vertical-align: middle;\n",
       "    }\n",
       "\n",
       "    .dataframe tbody tr th {\n",
       "        vertical-align: top;\n",
       "    }\n",
       "\n",
       "    .dataframe thead th {\n",
       "        text-align: right;\n",
       "    }\n",
       "</style>\n",
       "<table border=\"1\" class=\"dataframe\">\n",
       "  <thead>\n",
       "    <tr style=\"text-align: right;\">\n",
       "      <th></th>\n",
       "      <th>Id</th>\n",
       "      <th>EmployeeName</th>\n",
       "      <th>JobTitle</th>\n",
       "      <th>BasePay</th>\n",
       "      <th>OvertimePay</th>\n",
       "      <th>OtherPay</th>\n",
       "      <th>Benefits</th>\n",
       "      <th>TotalPay</th>\n",
       "      <th>TotalPayBenefits</th>\n",
       "      <th>Year</th>\n",
       "      <th>Notes</th>\n",
       "      <th>Agency</th>\n",
       "      <th>Status</th>\n",
       "    </tr>\n",
       "  </thead>\n",
       "  <tbody>\n",
       "    <tr>\n",
       "      <th>0</th>\n",
       "      <td>1</td>\n",
       "      <td>NATHANIEL FORD</td>\n",
       "      <td>GENERAL MANAGER-METROPOLITAN TRANSIT AUTHORITY</td>\n",
       "      <td>167411.18</td>\n",
       "      <td>0.00</td>\n",
       "      <td>400184.25</td>\n",
       "      <td>NaN</td>\n",
       "      <td>567595.43</td>\n",
       "      <td>567595.43</td>\n",
       "      <td>2011</td>\n",
       "      <td>NaN</td>\n",
       "      <td>San Francisco</td>\n",
       "      <td>NaN</td>\n",
       "    </tr>\n",
       "    <tr>\n",
       "      <th>1</th>\n",
       "      <td>2</td>\n",
       "      <td>GARY JIMENEZ</td>\n",
       "      <td>CAPTAIN III (POLICE DEPARTMENT)</td>\n",
       "      <td>155966.02</td>\n",
       "      <td>245131.88</td>\n",
       "      <td>137811.38</td>\n",
       "      <td>NaN</td>\n",
       "      <td>538909.28</td>\n",
       "      <td>538909.28</td>\n",
       "      <td>2011</td>\n",
       "      <td>NaN</td>\n",
       "      <td>San Francisco</td>\n",
       "      <td>NaN</td>\n",
       "    </tr>\n",
       "    <tr>\n",
       "      <th>2</th>\n",
       "      <td>3</td>\n",
       "      <td>ALBERT PARDINI</td>\n",
       "      <td>CAPTAIN III (POLICE DEPARTMENT)</td>\n",
       "      <td>212739.13</td>\n",
       "      <td>106088.18</td>\n",
       "      <td>16452.60</td>\n",
       "      <td>NaN</td>\n",
       "      <td>335279.91</td>\n",
       "      <td>335279.91</td>\n",
       "      <td>2011</td>\n",
       "      <td>NaN</td>\n",
       "      <td>San Francisco</td>\n",
       "      <td>NaN</td>\n",
       "    </tr>\n",
       "    <tr>\n",
       "      <th>3</th>\n",
       "      <td>4</td>\n",
       "      <td>CHRISTOPHER CHONG</td>\n",
       "      <td>WIRE ROPE CABLE MAINTENANCE MECHANIC</td>\n",
       "      <td>77916.00</td>\n",
       "      <td>56120.71</td>\n",
       "      <td>198306.90</td>\n",
       "      <td>NaN</td>\n",
       "      <td>332343.61</td>\n",
       "      <td>332343.61</td>\n",
       "      <td>2011</td>\n",
       "      <td>NaN</td>\n",
       "      <td>San Francisco</td>\n",
       "      <td>NaN</td>\n",
       "    </tr>\n",
       "    <tr>\n",
       "      <th>4</th>\n",
       "      <td>5</td>\n",
       "      <td>PATRICK GARDNER</td>\n",
       "      <td>DEPUTY CHIEF OF DEPARTMENT,(FIRE DEPARTMENT)</td>\n",
       "      <td>134401.60</td>\n",
       "      <td>9737.00</td>\n",
       "      <td>182234.59</td>\n",
       "      <td>NaN</td>\n",
       "      <td>326373.19</td>\n",
       "      <td>326373.19</td>\n",
       "      <td>2011</td>\n",
       "      <td>NaN</td>\n",
       "      <td>San Francisco</td>\n",
       "      <td>NaN</td>\n",
       "    </tr>\n",
       "  </tbody>\n",
       "</table>\n",
       "</div>"
      ],
      "text/plain": [
       "   Id       EmployeeName                                        JobTitle  \\\n",
       "0   1     NATHANIEL FORD  GENERAL MANAGER-METROPOLITAN TRANSIT AUTHORITY   \n",
       "1   2       GARY JIMENEZ                 CAPTAIN III (POLICE DEPARTMENT)   \n",
       "2   3     ALBERT PARDINI                 CAPTAIN III (POLICE DEPARTMENT)   \n",
       "3   4  CHRISTOPHER CHONG            WIRE ROPE CABLE MAINTENANCE MECHANIC   \n",
       "4   5    PATRICK GARDNER    DEPUTY CHIEF OF DEPARTMENT,(FIRE DEPARTMENT)   \n",
       "\n",
       "     BasePay  OvertimePay   OtherPay  Benefits   TotalPay  TotalPayBenefits  \\\n",
       "0  167411.18         0.00  400184.25       NaN  567595.43         567595.43   \n",
       "1  155966.02    245131.88  137811.38       NaN  538909.28         538909.28   \n",
       "2  212739.13    106088.18   16452.60       NaN  335279.91         335279.91   \n",
       "3   77916.00     56120.71  198306.90       NaN  332343.61         332343.61   \n",
       "4  134401.60      9737.00  182234.59       NaN  326373.19         326373.19   \n",
       "\n",
       "   Year  Notes         Agency Status  \n",
       "0  2011    NaN  San Francisco    NaN  \n",
       "1  2011    NaN  San Francisco    NaN  \n",
       "2  2011    NaN  San Francisco    NaN  \n",
       "3  2011    NaN  San Francisco    NaN  \n",
       "4  2011    NaN  San Francisco    NaN  "
      ]
     },
     "execution_count": 12,
     "metadata": {},
     "output_type": "execute_result"
    }
   ],
   "source": [
    "SFO.head()"
   ]
  },
  {
   "cell_type": "code",
   "execution_count": 13,
   "metadata": {},
   "outputs": [
    {
     "data": {
      "text/plain": [
       "148648"
      ]
     },
     "execution_count": 13,
     "metadata": {},
     "output_type": "execute_result"
    }
   ],
   "source": [
    "len(SFO)"
   ]
  },
  {
   "cell_type": "code",
   "execution_count": 14,
   "metadata": {},
   "outputs": [
    {
     "data": {
      "text/html": [
       "<div>\n",
       "<style scoped>\n",
       "    .dataframe tbody tr th:only-of-type {\n",
       "        vertical-align: middle;\n",
       "    }\n",
       "\n",
       "    .dataframe tbody tr th {\n",
       "        vertical-align: top;\n",
       "    }\n",
       "\n",
       "    .dataframe thead th {\n",
       "        text-align: right;\n",
       "    }\n",
       "</style>\n",
       "<table border=\"1\" class=\"dataframe\">\n",
       "  <thead>\n",
       "    <tr style=\"text-align: right;\">\n",
       "      <th></th>\n",
       "      <th>count</th>\n",
       "      <th>mean</th>\n",
       "      <th>std</th>\n",
       "      <th>min</th>\n",
       "      <th>25%</th>\n",
       "      <th>50%</th>\n",
       "      <th>75%</th>\n",
       "      <th>max</th>\n",
       "    </tr>\n",
       "  </thead>\n",
       "  <tbody>\n",
       "    <tr>\n",
       "      <th>Id</th>\n",
       "      <td>148648.0</td>\n",
       "      <td>74326.110220</td>\n",
       "      <td>42911.633315</td>\n",
       "      <td>1.00</td>\n",
       "      <td>37163.7500</td>\n",
       "      <td>74326.500</td>\n",
       "      <td>111488.2500</td>\n",
       "      <td>148654.00</td>\n",
       "    </tr>\n",
       "    <tr>\n",
       "      <th>BasePay</th>\n",
       "      <td>148043.0</td>\n",
       "      <td>66325.398119</td>\n",
       "      <td>42764.898947</td>\n",
       "      <td>-166.01</td>\n",
       "      <td>33587.3500</td>\n",
       "      <td>65007.450</td>\n",
       "      <td>94691.0500</td>\n",
       "      <td>319275.01</td>\n",
       "    </tr>\n",
       "    <tr>\n",
       "      <th>OvertimePay</th>\n",
       "      <td>148648.0</td>\n",
       "      <td>5065.821161</td>\n",
       "      <td>11454.266982</td>\n",
       "      <td>-0.01</td>\n",
       "      <td>0.0000</td>\n",
       "      <td>0.000</td>\n",
       "      <td>4657.5975</td>\n",
       "      <td>245131.88</td>\n",
       "    </tr>\n",
       "    <tr>\n",
       "      <th>OtherPay</th>\n",
       "      <td>148648.0</td>\n",
       "      <td>3648.761721</td>\n",
       "      <td>8056.655841</td>\n",
       "      <td>-7058.59</td>\n",
       "      <td>0.0000</td>\n",
       "      <td>811.205</td>\n",
       "      <td>4236.0350</td>\n",
       "      <td>400184.25</td>\n",
       "    </tr>\n",
       "    <tr>\n",
       "      <th>Benefits</th>\n",
       "      <td>112490.0</td>\n",
       "      <td>25007.777439</td>\n",
       "      <td>15402.235424</td>\n",
       "      <td>-33.89</td>\n",
       "      <td>11535.1925</td>\n",
       "      <td>28628.365</td>\n",
       "      <td>35566.7900</td>\n",
       "      <td>96570.66</td>\n",
       "    </tr>\n",
       "    <tr>\n",
       "      <th>TotalPay</th>\n",
       "      <td>148648.0</td>\n",
       "      <td>74770.035453</td>\n",
       "      <td>50516.440633</td>\n",
       "      <td>-618.13</td>\n",
       "      <td>36169.3700</td>\n",
       "      <td>71427.130</td>\n",
       "      <td>105840.9200</td>\n",
       "      <td>567595.43</td>\n",
       "    </tr>\n",
       "    <tr>\n",
       "      <th>TotalPayBenefits</th>\n",
       "      <td>148648.0</td>\n",
       "      <td>93694.776345</td>\n",
       "      <td>62792.743250</td>\n",
       "      <td>-618.13</td>\n",
       "      <td>44072.0625</td>\n",
       "      <td>92406.020</td>\n",
       "      <td>132876.9975</td>\n",
       "      <td>567595.43</td>\n",
       "    </tr>\n",
       "    <tr>\n",
       "      <th>Year</th>\n",
       "      <td>148648.0</td>\n",
       "      <td>2012.522617</td>\n",
       "      <td>1.117526</td>\n",
       "      <td>2011.00</td>\n",
       "      <td>2012.0000</td>\n",
       "      <td>2013.000</td>\n",
       "      <td>2014.0000</td>\n",
       "      <td>2014.00</td>\n",
       "    </tr>\n",
       "    <tr>\n",
       "      <th>Notes</th>\n",
       "      <td>0.0</td>\n",
       "      <td>NaN</td>\n",
       "      <td>NaN</td>\n",
       "      <td>NaN</td>\n",
       "      <td>NaN</td>\n",
       "      <td>NaN</td>\n",
       "      <td>NaN</td>\n",
       "      <td>NaN</td>\n",
       "    </tr>\n",
       "  </tbody>\n",
       "</table>\n",
       "</div>"
      ],
      "text/plain": [
       "                     count          mean           std      min         25%  \\\n",
       "Id                148648.0  74326.110220  42911.633315     1.00  37163.7500   \n",
       "BasePay           148043.0  66325.398119  42764.898947  -166.01  33587.3500   \n",
       "OvertimePay       148648.0   5065.821161  11454.266982    -0.01      0.0000   \n",
       "OtherPay          148648.0   3648.761721   8056.655841 -7058.59      0.0000   \n",
       "Benefits          112490.0  25007.777439  15402.235424   -33.89  11535.1925   \n",
       "TotalPay          148648.0  74770.035453  50516.440633  -618.13  36169.3700   \n",
       "TotalPayBenefits  148648.0  93694.776345  62792.743250  -618.13  44072.0625   \n",
       "Year              148648.0   2012.522617      1.117526  2011.00   2012.0000   \n",
       "Notes                  0.0           NaN           NaN      NaN         NaN   \n",
       "\n",
       "                        50%          75%        max  \n",
       "Id                74326.500  111488.2500  148654.00  \n",
       "BasePay           65007.450   94691.0500  319275.01  \n",
       "OvertimePay           0.000    4657.5975  245131.88  \n",
       "OtherPay            811.205    4236.0350  400184.25  \n",
       "Benefits          28628.365   35566.7900   96570.66  \n",
       "TotalPay          71427.130  105840.9200  567595.43  \n",
       "TotalPayBenefits  92406.020  132876.9975  567595.43  \n",
       "Year               2013.000    2014.0000    2014.00  \n",
       "Notes                   NaN          NaN        NaN  "
      ]
     },
     "execution_count": 14,
     "metadata": {},
     "output_type": "execute_result"
    }
   ],
   "source": [
    "SFO.describe().transpose()"
   ]
  },
  {
   "cell_type": "code",
   "execution_count": 15,
   "metadata": {},
   "outputs": [
    {
     "data": {
      "text/plain": [
       "Id                    int64\n",
       "EmployeeName         object\n",
       "JobTitle             object\n",
       "BasePay             float64\n",
       "OvertimePay         float64\n",
       "OtherPay            float64\n",
       "Benefits            float64\n",
       "TotalPay            float64\n",
       "TotalPayBenefits    float64\n",
       "Year                  int64\n",
       "Notes               float64\n",
       "Agency               object\n",
       "Status               object\n",
       "dtype: object"
      ]
     },
     "execution_count": 15,
     "metadata": {},
     "output_type": "execute_result"
    }
   ],
   "source": [
    "SFO.dtypes"
   ]
  },
  {
   "cell_type": "code",
   "execution_count": 16,
   "metadata": {},
   "outputs": [
    {
     "name": "stdout",
     "output_type": "stream",
     "text": [
      "Base Pay -  319275.01\n",
      "Over time Pay -  245131.88\n",
      "Other Pay -  400184.25\n",
      "Benefits -  96570.66\n",
      "Total Pay -  567595.43\n",
      "Total Pay Benefits -  567595.43\n"
     ]
    }
   ],
   "source": [
    "print(\"Base Pay - \",SFO['BasePay'].max())\n",
    "print(\"Over time Pay - \",SFO['OvertimePay'].max())\n",
    "print(\"Other Pay - \",SFO['OtherPay'].max())\n",
    "print(\"Benefits - \",SFO['Benefits'].max())\n",
    "print(\"Total Pay - \",SFO['TotalPay'].max())\n",
    "print(\"Total Pay Benefits - \",SFO['TotalPayBenefits'].max())"
   ]
  },
  {
   "cell_type": "code",
   "execution_count": 17,
   "metadata": {},
   "outputs": [
    {
     "name": "stdout",
     "output_type": "stream",
     "text": [
      "Base Pay -  66325.39811867346\n",
      "Over time Pay -  5065.821161468659\n",
      "Other Pay -  3648.761721112999\n",
      "Benefits -  25007.777439150406\n",
      "Total Pay -  74770.03545295961\n",
      "Total Pay Benefits -  93694.77634505832\n"
     ]
    }
   ],
   "source": [
    "print(\"Base Pay - \",SFO['BasePay'].mean())\n",
    "print(\"Over time Pay - \",SFO['OvertimePay'].mean())\n",
    "print(\"Other Pay - \",SFO['OtherPay'].mean())\n",
    "print(\"Benefits - \",SFO['Benefits'].mean())\n",
    "print(\"Total Pay - \",SFO['TotalPay'].mean())\n",
    "print(\"Total Pay Benefits - \",SFO['TotalPayBenefits'].mean())"
   ]
  },
  {
   "cell_type": "markdown",
   "metadata": {},
   "source": [
    "# 1. Compute how much total salary cost has increased from year 2011 to 2014"
   ]
  },
  {
   "cell_type": "code",
   "execution_count": 18,
   "metadata": {},
   "outputs": [
    {
     "name": "stderr",
     "output_type": "stream",
     "text": [
      "C:\\ProgramData\\Anaconda3\\lib\\site-packages\\scipy\\stats\\stats.py:1713: FutureWarning: Using a non-tuple sequence for multidimensional indexing is deprecated; use `arr[tuple(seq)]` instead of `arr[seq]`. In the future this will be interpreted as an array index, `arr[np.array(seq)]`, which will result either in an error or a different result.\n",
      "  return np.add.reduce(sorted[indexer] * weights, axis=axis) / sumval\n"
     ]
    },
    {
     "data": {
      "text/plain": [
       "<matplotlib.axes._subplots.AxesSubplot at 0x1e373d76e48>"
      ]
     },
     "execution_count": 18,
     "metadata": {},
     "output_type": "execute_result"
    },
    {
     "data": {
      "image/png": "[encoded data removed]",
      "text/plain": [
       "<Figure size 432x288 with 1 Axes>"
      ]
     },
     "metadata": {
      "needs_background": "light"
     },
     "output_type": "display_data"
    }
   ],
   "source": [
    "sns.barplot(x=\"Year\", y=\"TotalPayBenefits\", data=SFO)"
   ]
  },
  {
   "cell_type": "code",
   "execution_count": 19,
   "metadata": {},
   "outputs": [],
   "source": [
    "SFO2011=SFO[SFO['Year']==2011]"
   ]
  },
  {
   "cell_type": "code",
   "execution_count": 20,
   "metadata": {},
   "outputs": [],
   "source": [
    "SFO2014=SFO[SFO['Year']==2014]"
   ]
  },
  {
   "cell_type": "code",
   "execution_count": 21,
   "metadata": {},
   "outputs": [
    {
     "name": "stdout",
     "output_type": "stream",
     "text": [
      "Salary cost increased from 2011 to 2014 is  1,227,752,749\n"
     ]
    }
   ],
   "source": [
    "print(\"Salary cost increased from 2011 to 2014 is \",format(int(SFO2014['TotalPayBenefits'].sum()-SFO2011['TotalPayBenefits'].sum()),',d'))"
   ]
  },
  {
   "cell_type": "code",
   "execution_count": 22,
   "metadata": {},
   "outputs": [
    {
     "name": "stdout",
     "output_type": "stream",
     "text": [
      "Salary cost increased from 2011 to 2014 is  1,227,752,749\n"
     ]
    }
   ],
   "source": [
    "print(\"Salary cost increased from 2011 to 2014 is \",format(int(SFO[SFO['Year']==2014]['TotalPayBenefits'].sum()-SFO[SFO['Year']==2011]['TotalPayBenefits'].sum()),',d'))"
   ]
  },
  {
   "cell_type": "markdown",
   "metadata": {},
   "source": [
    "# 2. Which Job Title in Year 2014 has highest mean salary?"
   ]
  },
  {
   "cell_type": "code",
   "execution_count": 23,
   "metadata": {},
   "outputs": [],
   "source": [
    "HMS = SFO[SFO['Year']==2014][['JobTitle','TotalPayBenefits']].mean()"
   ]
  },
  {
   "cell_type": "code",
   "execution_count": 24,
   "metadata": {},
   "outputs": [],
   "source": [
    "s= pd.DataFrame(SFO[SFO['Year']==2014].groupby('JobTitle').TotalPayBenefits.mean())"
   ]
  },
  {
   "cell_type": "code",
   "execution_count": 25,
   "metadata": {},
   "outputs": [],
   "source": [
    "s = s.sort_values(by='TotalPayBenefits', ascending=False)"
   ]
  },
  {
   "cell_type": "code",
   "execution_count": 26,
   "metadata": {},
   "outputs": [
    {
     "data": {
      "text/html": [
       "<div>\n",
       "<style scoped>\n",
       "    .dataframe tbody tr th:only-of-type {\n",
       "        vertical-align: middle;\n",
       "    }\n",
       "\n",
       "    .dataframe tbody tr th {\n",
       "        vertical-align: top;\n",
       "    }\n",
       "\n",
       "    .dataframe thead th {\n",
       "        text-align: right;\n",
       "    }\n",
       "</style>\n",
       "<table border=\"1\" class=\"dataframe\">\n",
       "  <thead>\n",
       "    <tr style=\"text-align: right;\">\n",
       "      <th></th>\n",
       "      <th>TotalPayBenefits</th>\n",
       "    </tr>\n",
       "    <tr>\n",
       "      <th>JobTitle</th>\n",
       "      <th></th>\n",
       "    </tr>\n",
       "  </thead>\n",
       "  <tbody>\n",
       "    <tr>\n",
       "      <th>Chief Investment Officer</th>\n",
       "      <td>436224.36</td>\n",
       "    </tr>\n",
       "  </tbody>\n",
       "</table>\n",
       "</div>"
      ],
      "text/plain": [
       "                          TotalPayBenefits\n",
       "JobTitle                                  \n",
       "Chief Investment Officer         436224.36"
      ]
     },
     "execution_count": 26,
     "metadata": {},
     "output_type": "execute_result"
    }
   ],
   "source": [
    "s.head(1)"
   ]
  },
  {
   "cell_type": "markdown",
   "metadata": {},
   "source": [
    "# 3. How much money could have been saved in Year 2014 by stopping OverTimePay?"
   ]
  },
  {
   "cell_type": "code",
   "execution_count": 43,
   "metadata": {},
   "outputs": [
    {
     "name": "stdout",
     "output_type": "stream",
     "text": [
      "If we cut down overtime pay from Total Pay Benefits,we will be doing profit of :  3,615,947,181\n"
     ]
    }
   ],
   "source": [
    "print(\"If we cut down overtime pay from Total Pay Benefits,we will be doing profit of : \",format(int(SFO[SFO['Year']==2014]['TotalPayBenefits'].sum()-SFO[SFO['Year']==2014]['OvertimePay'].sum()),',d'))"
   ]
  },
  {
   "cell_type": "code",
   "execution_count": 44,
   "metadata": {},
   "outputs": [],
   "source": [
    "a = round(SFO[SFO['Year']==2014]['TotalPayBenefits'].sum()-SFO[SFO['Year']==2014]['OvertimePay'].sum(),2)"
   ]
  },
  {
   "cell_type": "code",
   "execution_count": 45,
   "metadata": {},
   "outputs": [
    {
     "data": {
      "text/plain": [
       "'3,615,947,181'"
      ]
     },
     "execution_count": 45,
     "metadata": {},
     "output_type": "execute_result"
    }
   ],
   "source": [
    "format(int((a)), ',d')"
   ]
  },
  {
   "cell_type": "markdown",
   "metadata": {},
   "source": [
    "# 4. Which are the top 5 common job in Year 2014 and how much do they cost SFO ?"
   ]
  },
  {
   "cell_type": "code",
   "execution_count": 46,
   "metadata": {},
   "outputs": [],
   "source": [
    "SFO[SFO['Year']==2014][['JobTitle','EmployeeName']].count()\n",
    "c= pd.DataFrame(SFO[SFO['Year']==2014].groupby(['JobTitle']).EmployeeName.count())\n",
    "c = c.sort_values(by='EmployeeName', ascending=False)"
   ]
  },
  {
   "cell_type": "code",
   "execution_count": 47,
   "metadata": {},
   "outputs": [],
   "source": [
    "SFO[SFO['Year']==2014][['JobTitle','TotalPayBenefits']].sum()\n",
    "d= pd.DataFrame(SFO[SFO['Year']==2014].groupby(['JobTitle']).TotalPayBenefits.sum())\n",
    "d = d.sort_values(by='TotalPayBenefits', ascending=False)"
   ]
  },
  {
   "cell_type": "code",
   "execution_count": 48,
   "metadata": {},
   "outputs": [],
   "source": [
    "merger = pd.merge(c, d, on='JobTitle')"
   ]
  },
  {
   "cell_type": "code",
   "execution_count": 49,
   "metadata": {},
   "outputs": [
    {
     "data": {
      "text/html": [
       "<div>\n",
       "<style scoped>\n",
       "    .dataframe tbody tr th:only-of-type {\n",
       "        vertical-align: middle;\n",
       "    }\n",
       "\n",
       "    .dataframe tbody tr th {\n",
       "        vertical-align: top;\n",
       "    }\n",
       "\n",
       "    .dataframe thead th {\n",
       "        text-align: right;\n",
       "    }\n",
       "</style>\n",
       "<table border=\"1\" class=\"dataframe\">\n",
       "  <thead>\n",
       "    <tr style=\"text-align: right;\">\n",
       "      <th></th>\n",
       "      <th>EmployeeName</th>\n",
       "      <th>TotalPayBenefits</th>\n",
       "    </tr>\n",
       "    <tr>\n",
       "      <th>JobTitle</th>\n",
       "      <th></th>\n",
       "      <th></th>\n",
       "    </tr>\n",
       "  </thead>\n",
       "  <tbody>\n",
       "    <tr>\n",
       "      <th>Transit Operator</th>\n",
       "      <td>2479</td>\n",
       "      <td>214,976,389.79</td>\n",
       "    </tr>\n",
       "    <tr>\n",
       "      <th>Special Nurse</th>\n",
       "      <td>1478</td>\n",
       "      <td>53,443,054.51</td>\n",
       "    </tr>\n",
       "    <tr>\n",
       "      <th>Registered Nurse</th>\n",
       "      <td>1234</td>\n",
       "      <td>187,216,454.08</td>\n",
       "    </tr>\n",
       "    <tr>\n",
       "      <th>Public Svc Aide-Public Works</th>\n",
       "      <td>916</td>\n",
       "      <td>9,806,317.44</td>\n",
       "    </tr>\n",
       "    <tr>\n",
       "      <th>Firefighter</th>\n",
       "      <td>815</td>\n",
       "      <td>144,827,011.84</td>\n",
       "    </tr>\n",
       "  </tbody>\n",
       "</table>\n",
       "</div>"
      ],
      "text/plain": [
       "                              EmployeeName  TotalPayBenefits\n",
       "JobTitle                                                    \n",
       "Transit Operator                      2479    214,976,389.79\n",
       "Special Nurse                         1478     53,443,054.51\n",
       "Registered Nurse                      1234    187,216,454.08\n",
       "Public Svc Aide-Public Works           916      9,806,317.44\n",
       "Firefighter                            815    144,827,011.84"
      ]
     },
     "execution_count": 49,
     "metadata": {},
     "output_type": "execute_result"
    }
   ],
   "source": [
    "pd.options.display.float_format = '{:,.2f}'.format\n",
    "merger.head(5)"
   ]
  },
  {
   "cell_type": "markdown",
   "metadata": {},
   "source": [
    "# 5. Who was the top earning employee across all the years?"
   ]
  },
  {
   "cell_type": "code",
   "execution_count": 50,
   "metadata": {},
   "outputs": [
    {
     "name": "stderr",
     "output_type": "stream",
     "text": [
      "C:\\ProgramData\\Anaconda3\\lib\\site-packages\\IPython\\core\\interactiveshell.py:2785: DtypeWarning: Columns (12) have mixed types. Specify dtype option on import or set low_memory=False.\n",
      "  interactivity=interactivity, compiler=compiler, result=result)\n"
     ]
    },
    {
     "data": {
      "text/plain": [
       "TotalPayBenefits   13,927,541,114.14\n",
       "dtype: float64"
      ]
     },
     "execution_count": 50,
     "metadata": {},
     "output_type": "execute_result"
    }
   ],
   "source": [
    "SFO1 = pd.read_csv('Salaries.csv')\n",
    "SFO1[['TotalPayBenefits']].sum()"
   ]
  },
  {
   "cell_type": "code",
   "execution_count": 51,
   "metadata": {},
   "outputs": [],
   "source": [
    "E= pd.DataFrame(SFO1.groupby('EmployeeName').TotalPayBenefits.sum())"
   ]
  },
  {
   "cell_type": "code",
   "execution_count": 52,
   "metadata": {},
   "outputs": [
    {
     "data": {
      "text/html": [
       "<div>\n",
       "<style scoped>\n",
       "    .dataframe tbody tr th:only-of-type {\n",
       "        vertical-align: middle;\n",
       "    }\n",
       "\n",
       "    .dataframe tbody tr th {\n",
       "        vertical-align: top;\n",
       "    }\n",
       "\n",
       "    .dataframe thead th {\n",
       "        text-align: right;\n",
       "    }\n",
       "</style>\n",
       "<table border=\"1\" class=\"dataframe\">\n",
       "  <thead>\n",
       "    <tr style=\"text-align: right;\">\n",
       "      <th></th>\n",
       "      <th>TotalPayBenefits</th>\n",
       "    </tr>\n",
       "    <tr>\n",
       "      <th>EmployeeName</th>\n",
       "      <th></th>\n",
       "    </tr>\n",
       "  </thead>\n",
       "  <tbody>\n",
       "    <tr>\n",
       "      <th>Kevin Lee</th>\n",
       "      <td>1,778,487.17</td>\n",
       "    </tr>\n",
       "    <tr>\n",
       "      <th>Steven Lee</th>\n",
       "      <td>1,706,550.76</td>\n",
       "    </tr>\n",
       "    <tr>\n",
       "      <th>William Wong</th>\n",
       "      <td>1,459,954.17</td>\n",
       "    </tr>\n",
       "    <tr>\n",
       "      <th>Stanley Lee</th>\n",
       "      <td>1,457,279.68</td>\n",
       "    </tr>\n",
       "    <tr>\n",
       "      <th>Richard Lee</th>\n",
       "      <td>1,268,668.84</td>\n",
       "    </tr>\n",
       "  </tbody>\n",
       "</table>\n",
       "</div>"
      ],
      "text/plain": [
       "              TotalPayBenefits\n",
       "EmployeeName                  \n",
       "Kevin Lee         1,778,487.17\n",
       "Steven Lee        1,706,550.76\n",
       "William Wong      1,459,954.17\n",
       "Stanley Lee       1,457,279.68\n",
       "Richard Lee       1,268,668.84"
      ]
     },
     "execution_count": 52,
     "metadata": {},
     "output_type": "execute_result"
    }
   ],
   "source": [
    "E = E.sort_values(by='TotalPayBenefits', ascending=False)\n",
    "E.head()"
   ]
  },
  {
   "cell_type": "markdown",
   "metadata": {},
   "source": [
    "# Enhancements for code"
   ]
  },
  {
   "cell_type": "markdown",
   "metadata": {},
   "source": [
    "# You can try these enhancements in code"
   ]
  },
  {
   "cell_type": "markdown",
   "metadata": {},
   "source": [
    "# 1. Which are the last 5 common job in Year 2014 and how much do they cost SFO?"
   ]
  },
  {
   "cell_type": "code",
   "execution_count": 53,
   "metadata": {},
   "outputs": [
    {
     "data": {
      "text/html": [
       "<div>\n",
       "<style scoped>\n",
       "    .dataframe tbody tr th:only-of-type {\n",
       "        vertical-align: middle;\n",
       "    }\n",
       "\n",
       "    .dataframe tbody tr th {\n",
       "        vertical-align: top;\n",
       "    }\n",
       "\n",
       "    .dataframe thead th {\n",
       "        text-align: right;\n",
       "    }\n",
       "</style>\n",
       "<table border=\"1\" class=\"dataframe\">\n",
       "  <thead>\n",
       "    <tr style=\"text-align: right;\">\n",
       "      <th></th>\n",
       "      <th>TotalPayBenefits</th>\n",
       "    </tr>\n",
       "    <tr>\n",
       "      <th>EmployeeName</th>\n",
       "      <th></th>\n",
       "    </tr>\n",
       "  </thead>\n",
       "  <tbody>\n",
       "    <tr>\n",
       "      <th>Kevin Lee</th>\n",
       "      <td>1,778,487.17</td>\n",
       "    </tr>\n",
       "    <tr>\n",
       "      <th>Steven Lee</th>\n",
       "      <td>1,706,550.76</td>\n",
       "    </tr>\n",
       "    <tr>\n",
       "      <th>William Wong</th>\n",
       "      <td>1,459,954.17</td>\n",
       "    </tr>\n",
       "    <tr>\n",
       "      <th>Stanley Lee</th>\n",
       "      <td>1,457,279.68</td>\n",
       "    </tr>\n",
       "    <tr>\n",
       "      <th>Richard Lee</th>\n",
       "      <td>1,268,668.84</td>\n",
       "    </tr>\n",
       "  </tbody>\n",
       "</table>\n",
       "</div>"
      ],
      "text/plain": [
       "              TotalPayBenefits\n",
       "EmployeeName                  \n",
       "Kevin Lee         1,778,487.17\n",
       "Steven Lee        1,706,550.76\n",
       "William Wong      1,459,954.17\n",
       "Stanley Lee       1,457,279.68\n",
       "Richard Lee       1,268,668.84"
      ]
     },
     "execution_count": 53,
     "metadata": {},
     "output_type": "execute_result"
    }
   ],
   "source": [
    "E.head()"
   ]
  },
  {
   "cell_type": "markdown",
   "metadata": {},
   "source": [
    "# 2. In year 201 OverTimePay was what percentage of TotalPayBenefits"
   ]
  },
  {
   "cell_type": "code",
   "execution_count": 54,
   "metadata": {},
   "outputs": [
    {
     "name": "stdout",
     "output_type": "stream",
     "text": [
      "Over time pay % for 2011 is  6%\n"
     ]
    }
   ],
   "source": [
    "print(\"Over time pay % for 2011 is \",\"{0:.0f}%\".format((SFO[SFO['Year']==2011]['OvertimePay'].sum()/SFO[SFO['Year']==2011]['TotalPayBenefits'].sum())*100))"
   ]
  },
  {
   "cell_type": "code",
   "execution_count": 55,
   "metadata": {},
   "outputs": [
    {
     "name": "stdout",
     "output_type": "stream",
     "text": [
      "Over time pay % for 2012 is  5%\n"
     ]
    }
   ],
   "source": [
    "print(\"Over time pay % for 2012 is \",\"{0:.0f}%\".format((SFO[SFO['Year']==2012]['OvertimePay'].sum()/SFO[SFO['Year']==2012]['TotalPayBenefits'].sum())*100))"
   ]
  },
  {
   "cell_type": "code",
   "execution_count": 56,
   "metadata": {},
   "outputs": [
    {
     "name": "stdout",
     "output_type": "stream",
     "text": [
      "Over time pay % for 2013 is  5%\n"
     ]
    }
   ],
   "source": [
    "print(\"Over time pay % for 2013 is \",\"{0:.0f}%\".format((SFO[SFO['Year']==2013]['OvertimePay'].sum()/SFO[SFO['Year']==2013]['TotalPayBenefits'].sum())*100))"
   ]
  },
  {
   "cell_type": "code",
   "execution_count": 57,
   "metadata": {},
   "outputs": [
    {
     "name": "stdout",
     "output_type": "stream",
     "text": [
      "Over time pay % for 2014 is  5%\n"
     ]
    }
   ],
   "source": [
    "print(\"Over time pay % for 2014 is \",\"{0:.0f}%\".format((SFO[SFO['Year']==2014]['OvertimePay'].sum()/SFO[SFO['Year']==2014]['TotalPayBenefits'].sum())*100))"
   ]
  },
  {
   "cell_type": "markdown",
   "metadata": {},
   "source": [
    "# 3. Which Job Title in Year 2014 has lowest mean salary?"
   ]
  },
  {
   "cell_type": "code",
   "execution_count": 58,
   "metadata": {},
   "outputs": [
    {
     "data": {
      "text/html": [
       "<div>\n",
       "<style scoped>\n",
       "    .dataframe tbody tr th:only-of-type {\n",
       "        vertical-align: middle;\n",
       "    }\n",
       "\n",
       "    .dataframe tbody tr th {\n",
       "        vertical-align: top;\n",
       "    }\n",
       "\n",
       "    .dataframe thead th {\n",
       "        text-align: right;\n",
       "    }\n",
       "</style>\n",
       "<table border=\"1\" class=\"dataframe\">\n",
       "  <thead>\n",
       "    <tr style=\"text-align: right;\">\n",
       "      <th></th>\n",
       "      <th>TotalPayBenefits</th>\n",
       "    </tr>\n",
       "    <tr>\n",
       "      <th>JobTitle</th>\n",
       "      <th></th>\n",
       "    </tr>\n",
       "  </thead>\n",
       "  <tbody>\n",
       "    <tr>\n",
       "      <th>BdComm Mbr, Grp2,M=$25/Mtg</th>\n",
       "      <td>345.42</td>\n",
       "    </tr>\n",
       "  </tbody>\n",
       "</table>\n",
       "</div>"
      ],
      "text/plain": [
       "                            TotalPayBenefits\n",
       "JobTitle                                    \n",
       "BdComm Mbr, Grp2,M=$25/Mtg            345.42"
      ]
     },
     "execution_count": 58,
     "metadata": {},
     "output_type": "execute_result"
    }
   ],
   "source": [
    "s.tail(1)"
   ]
  },
  {
   "cell_type": "code",
   "execution_count": null,
   "metadata": {},
   "outputs": [],
   "source": []
  }
 ],
 "metadata": {
  "kernelspec": {
   "display_name": "Python 3",
   "language": "python",
   "name": "python3"
  },
  "language_info": {
   "codemirror_mode": {
    "name": "ipython",
    "version": 3
   },
   "file_extension": ".py",
   "mimetype": "text/x-python",
   "name": "python",
   "nbconvert_exporter": "python",
   "pygments_lexer": "ipython3",
   "version": "3.7.0"
  }
 },
 "nbformat": 4,
 "nbformat_minor": 2
}
